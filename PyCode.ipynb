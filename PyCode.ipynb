{
  "nbformat": 4,
  "nbformat_minor": 0,
  "metadata": {
    "colab": {
      "provenance": [],
      "authorship_tag": "ABX9TyNMvwagc0S39eBPDulJInM9",
      "include_colab_link": true
    },
    "kernelspec": {
      "name": "python3",
      "display_name": "Python 3"
    }
  },
  "cells": [
    {
      "cell_type": "markdown",
      "metadata": {
        "id": "view-in-github",
        "colab_type": "text"
      },
      "source": [
        "<a href=\"https://colab.research.google.com/github/StalWork/mypythontestrep/blob/main/PyCode.ipynb\" target=\"_parent\"><img src=\"https://colab.research.google.com/assets/colab-badge.svg\" alt=\"Open In Colab\"/></a>"
      ]
    },
    {
      "cell_type": "code",
      "metadata": {
        "id": "_A7arGzDLqGt",
        "colab": {
          "base_uri": "https://localhost:8080/"
        },
        "outputId": "b34c4583-b30b-47b9-978c-47269647ae64"
      },
      "source": [
        "import datetime\n",
        " \n",
        "today = datetime.datetime.today()\n",
        "yourlocation=\"Moscow\"\n",
        "print(f\"как ты, как погода {today:%B %d, %Y} в {yourlocation}?\")"
      ],
      "execution_count": 1,
      "outputs": [
        {
          "output_type": "stream",
          "name": "stdout",
          "text": [
            "как ты, как погода October 17, 2022 в Moscow?\n"
          ]
        }
      ]
    },
    {
      "cell_type": "code",
      "source": [],
      "metadata": {
        "id": "kG1WcYzg9-_Q"
      },
      "execution_count": null,
      "outputs": []
    }
  ]
}